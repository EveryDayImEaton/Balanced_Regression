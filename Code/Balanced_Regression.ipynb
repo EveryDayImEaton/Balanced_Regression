{
 "cells": [
  {
   "cell_type": "markdown",
   "metadata": {},
   "source": [
    "# Balanced Regression"
   ]
  },
  {
   "cell_type": "markdown",
   "metadata": {},
   "source": [
    "Joey Couse and Abraham Eaton <br>\n",
    "22-Jan-2021<br>\n",
    "\n",
    "### Overview:\n",
    "Machine learning hyperparameters are optimized as a part of the training process to increase the performance of models.  An area less researched however has been how to optimize the selection of the training and validation datasets.  Often this is done randomly, in order to \"fairly\" address the data.  Standard practice involves balancing a dataset across the dependent (predicted) variable when a classification problem has unbalanced classes.  This is done through oversampling, undersampling, sample weighting, or other methods.  In practice this helps correct for unbalanced data and yields better results.  \n",
    "<br>\n",
    "We believe that this mentality should be taken one step further by balancing training data across a number of different features not limited to only the dependent variable.  Our hypothesis is that ensuring that the training set and validation set are loosely balanced will allow machine learning models to more accurately distill the true signals in the training data.  Particularly with small datasets, small samples sizes can lead to training or validation sets that are different from each other in potentially critical ways.  In this script we attempt to test this hypothesis using datasets from the machine learning respository.  \n",
    "<br>"
   ]
  },
  {
   "cell_type": "code",
   "execution_count": 1,
   "metadata": {},
   "outputs": [
    {
     "name": "stderr",
     "output_type": "stream",
     "text": [
      "┌ Info: Recompiling stale cache file C:\\Users\\Abraham\\.julia\\compiled\\v1.2\\CSV\\HHBkp.ji for CSV [336ed68f-0bac-5ca0-87d4-7b16caf5d00b]\n",
      "└ @ Base loading.jl:1240\n"
     ]
    }
   ],
   "source": [
    "using Statistics, DataFrames, LinearAlgebra, StatsBase, CSV, Random, Suppressor"
   ]
  },
  {
   "cell_type": "code",
   "execution_count": null,
   "metadata": {},
   "outputs": [],
   "source": []
  }
 ],
 "metadata": {
  "kernelspec": {
   "display_name": "Julia 1.2.0",
   "language": "julia",
   "name": "julia-1.2"
  },
  "language_info": {
   "file_extension": ".jl",
   "mimetype": "application/julia",
   "name": "julia",
   "version": "1.2.0"
  }
 },
 "nbformat": 4,
 "nbformat_minor": 2
}
