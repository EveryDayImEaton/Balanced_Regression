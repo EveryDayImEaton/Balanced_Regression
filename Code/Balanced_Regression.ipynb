{
 "cells": [
  {
   "cell_type": "markdown",
   "metadata": {},
   "source": [
    "# Balanced Regression"
   ]
  },
  {
   "cell_type": "markdown",
   "metadata": {},
   "source": [
    "Joey Couse and Abraham Eaton <br>\n",
    "22-Jan-2021<br>\n",
    "\n",
    "### Overview:\n",
    "Machine learning hyperparameters are optimized as a part of the training process to increase the performance of models.  An area less researched however has been how to optimize the selection of the training and validation datasets.  Often this is done randomly, in order to \"fairly\" address the data.  Standard practice involves balancing a dataset across the dependent (predicted) variable when a classification problem has unbalanced classes.  This is done through oversampling, undersampling, sample weighting, or other methods.  In practice this helps correct for unbalanced data and yields better results.  \n",
    "<br>\n",
    "We believe that this mentality should be taken one step further by balancing training data across a number of different features not limited to only the dependent variable.  Our hypothesis is that ensuring that the training set and validation set are loosely balanced will allow machine learning models to more accurately distill the true signals in the training data.  Particularly with small datasets, small samples sizes can lead to training or validation sets that are different from each other in potentially critical ways.  In this script we attempt to test this hypothesis using datasets from the machine learning respository.  \n",
    "<br>\n",
    "\n",
    "### Sources:\n",
    "This script utilizes a UCI Machine Learning Repository API developed and maintained here: https://github.com/tirthajyoti/UCI-ML-API#lowlevelfunctions."
   ]
  },
  {
   "cell_type": "code",
   "execution_count": 1,
   "metadata": {},
   "outputs": [],
   "source": [
    "using Statistics, DataFrames, LinearAlgebra, StatsBase, CSV, Random, Suppressor"
   ]
  },
  {
   "cell_type": "code",
   "execution_count": 2,
   "metadata": {},
   "outputs": [],
   "source": [
    "using PyCall"
   ]
  },
  {
   "cell_type": "code",
   "execution_count": 3,
   "metadata": {},
   "outputs": [
    {
     "data": {
      "text/plain": [
       "PyObject ['', 'C:\\\\Users\\\\Abraham\\\\.julia\\\\conda\\\\3\\\\python38.zip', 'C:\\\\Users\\\\Abraham\\\\.julia\\\\conda\\\\3\\\\DLLs', 'C:\\\\Users\\\\Abraham\\\\.julia\\\\conda\\\\3\\\\lib', 'C:\\\\Users\\\\Abraham\\\\AppData\\\\Local\\\\Julia-1.2.0\\\\bin', 'C:\\\\Users\\\\Abraham\\\\.julia\\\\conda\\\\3', 'C:\\\\Users\\\\Abraham\\\\.julia\\\\conda\\\\3\\\\lib\\\\site-packages', 'C:\\\\Users\\\\Abraham\\\\.julia\\\\conda\\\\3\\\\lib\\\\site-packages\\\\win32', 'C:\\\\Users\\\\Abraham\\\\.julia\\\\conda\\\\3\\\\lib\\\\site-packages\\\\win32\\\\lib', 'C:\\\\Users\\\\Abraham\\\\.julia\\\\conda\\\\3\\\\lib\\\\site-packages\\\\Pythonwin']"
      ]
     },
     "execution_count": 3,
     "metadata": {},
     "output_type": "execute_result"
    }
   ],
   "source": [
    "pushfirst!(PyVector(pyimport(\"sys\").\"path\"), \"\")"
   ]
  },
  {
   "cell_type": "code",
   "execution_count": 4,
   "metadata": {},
   "outputs": [
    {
     "data": {
      "text/plain": [
       "PyObject <module 'UCI_ML_Functions' from 'C:\\\\Users\\\\Abraham\\\\Documents\\\\Mirror_Shared\\\\Balanced_Regression\\\\Code\\\\UCI_ML_Functions.py'>"
      ]
     },
     "execution_count": 4,
     "metadata": {},
     "output_type": "execute_result"
    }
   ],
   "source": [
    "UCI_ML = pyimport(\"UCI_ML_Functions\")"
   ]
  },
  {
   "cell_type": "code",
   "execution_count": 5,
   "metadata": {},
   "outputs": [
    {
     "ename": "PyCall.PyError",
     "evalue": "PyError ($(Expr(:escape, :(ccall(#= C:\\Users\\Abraham\\.julia\\packages\\PyCall\\tqyST\\src\\pyfncall.jl:43 =# @pysym(:PyObject_Call), PyPtr, (PyPtr, PyPtr, PyPtr), o, pyargsptr, kw))))) <class 'ModuleNotFoundError'>\nModuleNotFoundError(\"No module named 'pandas'\")\n  File \"C:\\Users\\Abraham\\Documents\\Mirror_Shared\\Balanced_Regression\\Code\\UCI_ML_Functions.py\", line 128, in build_local_table\n    df_table = read_dataset_table(msg_flag=msg_flag)\n  File \"C:\\Users\\Abraham\\Documents\\Mirror_Shared\\Balanced_Regression\\Code\\UCI_ML_Functions.py\", line 13, in read_dataset_table\n    import pandas as pd\n",
     "output_type": "error",
     "traceback": [
      "PyError ($(Expr(:escape, :(ccall(#= C:\\Users\\Abraham\\.julia\\packages\\PyCall\\tqyST\\src\\pyfncall.jl:43 =# @pysym(:PyObject_Call), PyPtr, (PyPtr, PyPtr, PyPtr), o, pyargsptr, kw))))) <class 'ModuleNotFoundError'>\nModuleNotFoundError(\"No module named 'pandas'\")\n  File \"C:\\Users\\Abraham\\Documents\\Mirror_Shared\\Balanced_Regression\\Code\\UCI_ML_Functions.py\", line 128, in build_local_table\n    df_table = read_dataset_table(msg_flag=msg_flag)\n  File \"C:\\Users\\Abraham\\Documents\\Mirror_Shared\\Balanced_Regression\\Code\\UCI_ML_Functions.py\", line 13, in read_dataset_table\n    import pandas as pd\n",
      "",
      "Stacktrace:",
      " [1] pyerr_check at C:\\Users\\Abraham\\.julia\\packages\\PyCall\\tqyST\\src\\exception.jl:62 [inlined]",
      " [2] pyerr_check at C:\\Users\\Abraham\\.julia\\packages\\PyCall\\tqyST\\src\\exception.jl:66 [inlined]",
      " [3] _handle_error(::String) at C:\\Users\\Abraham\\.julia\\packages\\PyCall\\tqyST\\src\\exception.jl:83",
      " [4] macro expansion at C:\\Users\\Abraham\\.julia\\packages\\PyCall\\tqyST\\src\\exception.jl:97 [inlined]",
      " [5] #109 at C:\\Users\\Abraham\\.julia\\packages\\PyCall\\tqyST\\src\\pyfncall.jl:43 [inlined]",
      " [6] disable_sigint at .\\c.jl:446 [inlined]",
      " [7] __pycall! at C:\\Users\\Abraham\\.julia\\packages\\PyCall\\tqyST\\src\\pyfncall.jl:42 [inlined]",
      " [8] _pycall!(::PyObject, ::PyObject, ::Tuple{}, ::Int64, ::Ptr{Nothing}) at C:\\Users\\Abraham\\.julia\\packages\\PyCall\\tqyST\\src\\pyfncall.jl:29",
      " [9] #call#116 at C:\\Users\\Abraham\\.julia\\packages\\PyCall\\tqyST\\src\\pyfncall.jl:11 [inlined]",
      " [10] (::PyObject)() at C:\\Users\\Abraham\\.julia\\packages\\PyCall\\tqyST\\src\\pyfncall.jl:86",
      " [11] top-level scope at In[5]:1"
     ]
    }
   ],
   "source": [
    "table = UCI_ML.build_local_table()"
   ]
  },
  {
   "cell_type": "code",
   "execution_count": 6,
   "metadata": {},
   "outputs": [
    {
     "data": {
      "text/plain": [
       "\"C:\\\\Python37-x64\\\\python.exe\""
      ]
     },
     "execution_count": 6,
     "metadata": {},
     "output_type": "execute_result"
    }
   ],
   "source": [
    "ENV[\"PYTHON\"] = raw\"C:\\Python37-x64\\python.exe\""
   ]
  },
  {
   "cell_type": "code",
   "execution_count": 7,
   "metadata": {},
   "outputs": [
    {
     "name": "stdout",
     "output_type": "stream",
     "text": [
      "\u001b[32m\u001b[1m  Building\u001b[22m\u001b[39m Conda ─→ `C:\\Users\\Abraham\\.julia\\packages\\Conda\\x5ml4\\deps\\build.log`\n",
      "\u001b[32m\u001b[1m  Building\u001b[22m\u001b[39m PyCall → `C:\\Users\\Abraham\\.julia\\packages\\PyCall\\tqyST\\deps\\build.log`\n"
     ]
    },
    {
     "data": {
      "text/plain": [
       "false"
      ]
     },
     "execution_count": 7,
     "metadata": {},
     "output_type": "execute_result"
    }
   ],
   "source": [
    "Pkg.build(\"PyCall\")"
   ]
  },
  {
   "cell_type": "code",
   "execution_count": null,
   "metadata": {},
   "outputs": [],
   "source": []
  }
 ],
 "metadata": {
  "kernelspec": {
   "display_name": "Julia 1.2.0",
   "language": "julia",
   "name": "julia-1.2"
  },
  "language_info": {
   "file_extension": ".jl",
   "mimetype": "application/julia",
   "name": "julia",
   "version": "1.2.0"
  }
 },
 "nbformat": 4,
 "nbformat_minor": 2
}
